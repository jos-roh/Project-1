{
 "cells": [
  {
   "cell_type": "markdown",
   "metadata": {
    "papermill": {
     "duration": 0.075389,
     "end_time": "2020-12-28T10:21:44.551664",
     "exception": false,
     "start_time": "2020-12-28T10:21:44.476275",
     "status": "completed"
    },
    "tags": []
   },
   "source": [
    "# Customer Churn (with EDA & Modelling)\n",
    "\n",
    "## Table of content\n",
    "* [1. Introduction](#Introduction)\n",
    "    * [1.1. Goals](#Goals)\n",
    "    * [1.2. Libraries](#Libraries)\n",
    "* [2. The Data](#TheData)\n",
    "    * [2.1. Data Sample](#DataSample)\n",
    "    * [2.2. Data Preprocessing](#DataPreprocessing)\n",
    "* [3. Customer Profiles](#CustomerProfiles)\n",
    "    * [3.1. Exploratory Data Analysis](#EDA)\n",
    "    * [3.2. Churn and Non Churn Profiles](#Profiles)\n",
    "* [4. Customer Churn Prediction](#CustomerChurnPrediction)\n",
    "    * [4.1. Data Preperation](#DataPrep)\n",
    "    * [4.2. Model Training](#ModelTraining)\n",
    "    * [4.3. Model Evaluation](#ModelEvaluation)\n",
    "    * [4.4. Hyperparameter tuning](#Hyperparameter)\n",
    "    * [4.5. Feature Importance](#FeatureImportance)\n",
    "* [5. Conclusion](#Conclusion)\n"
   ]
  },
  {
   "cell_type": "markdown",
   "metadata": {
    "papermill": {
     "duration": 0.073517,
     "end_time": "2020-12-28T10:21:44.699349",
     "exception": false,
     "start_time": "2020-12-28T10:21:44.625832",
     "status": "completed"
    },
    "tags": []
   },
   "source": [
    "\n",
    "# 1. Introduction\n",
    "\n",
    "\n",
    "## 1.1. Goals\n",
    "The goal of this notebook is to answer both tasks given for the Bank customers.\n",
    "\n",
    "The first goal of this project is to provide an analysis which shows the **difference** between a **non-churning and churning customer**. This will provide us insight into which customers are eager to churn.\n",
    "\n",
    "The top priority of this case is to identify if a customer will churn or won't. It's important that we don't **predict** churning as non-churning customers. "
   ]
  },
  {
   "cell_type": "markdown",
   "metadata": {
    "papermill": {
     "duration": 0.07349,
     "end_time": "2020-12-28T10:21:44.848225",
     "exception": false,
     "start_time": "2020-12-28T10:21:44.774735",
     "status": "completed"
    },
    "tags": []
   },
   "source": [
    "<a id=\"Libraries\"></a>\n",
    "## 1.2. Libraries\n",
    "Libraries used can be found in the code block underneed."
   ]
  },
  {
   "cell_type": "code",
   "execution_count": 18,
   "metadata": {
    "execution": {
     "iopub.execute_input": "2020-12-28T10:21:55.005310Z",
     "iopub.status.busy": "2020-12-28T10:21:54.999819Z",
     "iopub.status.idle": "2020-12-28T10:21:58.044753Z",
     "shell.execute_reply": "2020-12-28T10:21:58.043986Z"
    },
    "papermill": {
     "duration": 3.131889,
     "end_time": "2020-12-28T10:21:58.044873",
     "exception": false,
     "start_time": "2020-12-28T10:21:54.912984",
     "status": "completed"
    },
    "tags": []
   },
   "outputs": [],
   "source": [
    "# Libraries\n",
    "import os\n",
    "\n",
    "# Used for EDA, Customer profiling\n",
    "import numpy as np\n",
    "import pandas as pd\n",
    "import matplotlib.pyplot as plt\n",
    "import seaborn as sns\n",
    "\n",
    "# from imblearn.over_sampling import SMOTE\n",
    "\n",
    "# from sklearn.preprocessing import LabelEncoder\n",
    "# from sklearn.ensemble import RandomForestClassifier\n",
    "# from sklearn.model_selection import RandomizedSearchCV, GridSearchCV, learning_curve, train_test_split\n",
    "# from sklearn.metrics import confusion_matrix, classification_report, accuracy_score, f1_score, precision_score, recall_score, roc_auc_score, roc_curve\n",
    "# from sklearn.inspection import permutation_importance\n",
    "\n",
    "# from xgboost import XGBClassifier\n",
    "\n",
    "from scipy import stats\n",
    "from scipy.stats import randint\n",
    "from scipy.stats import uniform\n",
    "\n",
    "\n",
    "# Presets\n",
    "%matplotlib inline\n",
    "sns.set()"
   ]
  },
  {
   "cell_type": "markdown",
   "metadata": {
    "papermill": {
     "duration": 0.07399,
     "end_time": "2020-12-28T10:21:58.194355",
     "exception": false,
     "start_time": "2020-12-28T10:21:58.120365",
     "status": "completed"
    },
    "tags": []
   },
   "source": [
    "# 2. The Data\n",
    "\n",
    "## 2.1. Data sample\n",
    "\n",
    "\n",
    "* ***Basic information***:\n",
    "    * **CLIENTNUM** : Unique identifier for the customer holding the account.\n",
    "\n",
    "\n",
    "* ***Target/Label***:\n",
    "    * **Attrition_Flag**: Internal event (customer activity) variable - if the account is closed then 1 else 0.\n",
    "\n",
    "\n",
    "* ***Demographic variables***:\n",
    "    * **Customer_Age**: Demographic variable - Customer's Age in Years.\n",
    "    * **Gender**: Demographic variable - M=Male, F=Female.\n",
    "    * **Dependent_count**: Demographic variable - Number of dependents.\n",
    "    * **Education_Level**: Demographic variable - Educational Qualification of the account holder (example: high school, college graduate, etc.).\n",
    "    * **Marital_Status**: Demographic variable - Married, Single, Divorced, Unknown.\n",
    "    * **Income_Category**: Demographic variable - Annual Income Category of the account holder (< $40K, $40K - 60K, $60K - $80K, $80K-$120K, >).\n",
    "    \n",
    "\n",
    "* ***Product variables***:\n",
    "    * **Card_Category**: Product Variable - Type of Card (Blue, Silver, Gold, Platinum).\n",
    "    * **Months_on_book**: Period of relationship with bank.\n",
    "    * **Total_Relationship_Count**: Total no. of products held by the customer.\n",
    "    * **Months_Inactive_12_mon**: No. of Months in the last 12 months.\n",
    "    * **Contacts_Count_12_mon**: No. of Contacts in the last 12 months.\n",
    "    * **Credit_Limit**: Credit Limit on the Credit Card.\n",
    "    * **Total_Revolving_Bal**: Total Revolving Balance on the Credit Card.\n",
    "    * **Avg_Open_To_Buy**: Open to Buy Credit Line (Average of last 12 months\n",
    "    * **Total_Amt_Chng_Q4_Q1**: Change in Transaction Amount (Q4 over Q1).\n",
    "    * **Total_Trans_Amt**: Total Transaction Amount (Last 12 months).\n",
    "    * **Total_Trans_Ct**: Total Transaction Count (Last 12 months).\n",
    "    * **Total_Ct_Chng_Q4_Q1**: Change in Transaction Count (Q4 over Q1).\n",
    "    * **Avg_Utilization_Ratio**: Average Card Utilization Ratio.\n",
    "\n",
    "\n",
    "* ***Unimportant variables***:\n",
    "    * **Naive_Bayes**: It was mentioned that all columns containing the \"N.B.\"-tag should be disregarded.\n"
   ]
  },
  {
   "cell_type": "code",
   "execution_count": 19,
   "metadata": {
    "execution": {
     "iopub.execute_input": "2020-12-28T10:21:58.355170Z",
     "iopub.status.busy": "2020-12-28T10:21:58.354442Z",
     "iopub.status.idle": "2020-12-28T10:21:58.462374Z",
     "shell.execute_reply": "2020-12-28T10:21:58.462970Z"
    },
    "papermill": {
     "duration": 0.193303,
     "end_time": "2020-12-28T10:21:58.463118",
     "exception": false,
     "start_time": "2020-12-28T10:21:58.269815",
     "status": "completed"
    },
    "scrolled": false,
    "tags": []
   },
   "outputs": [
    {
     "data": {
      "text/html": [
       "<div>\n",
       "<style scoped>\n",
       "    .dataframe tbody tr th:only-of-type {\n",
       "        vertical-align: middle;\n",
       "    }\n",
       "\n",
       "    .dataframe tbody tr th {\n",
       "        vertical-align: top;\n",
       "    }\n",
       "\n",
       "    .dataframe thead th {\n",
       "        text-align: right;\n",
       "    }\n",
       "</style>\n",
       "<table border=\"1\" class=\"dataframe\">\n",
       "  <thead>\n",
       "    <tr style=\"text-align: right;\">\n",
       "      <th></th>\n",
       "      <th>CLIENTNUM</th>\n",
       "      <th>Attrition_Flag</th>\n",
       "      <th>Customer_Age</th>\n",
       "      <th>Gender</th>\n",
       "      <th>Dependent_count</th>\n",
       "      <th>Education_Level</th>\n",
       "      <th>Marital_Status</th>\n",
       "      <th>Income_Category</th>\n",
       "      <th>Card_Category</th>\n",
       "      <th>Months_on_book</th>\n",
       "      <th>...</th>\n",
       "      <th>Credit_Limit</th>\n",
       "      <th>Total_Revolving_Bal</th>\n",
       "      <th>Avg_Open_To_Buy</th>\n",
       "      <th>Total_Amt_Chng_Q4_Q1</th>\n",
       "      <th>Total_Trans_Amt</th>\n",
       "      <th>Total_Trans_Ct</th>\n",
       "      <th>Total_Ct_Chng_Q4_Q1</th>\n",
       "      <th>Avg_Utilization_Ratio</th>\n",
       "      <th>Naive_Bayes_Classifier_Attrition_Flag_Card_Category_Contacts_Count_12_mon_Dependent_count_Education_Level_Months_Inactive_12_mon_1</th>\n",
       "      <th>Naive_Bayes_Classifier_Attrition_Flag_Card_Category_Contacts_Count_12_mon_Dependent_count_Education_Level_Months_Inactive_12_mon_2</th>\n",
       "    </tr>\n",
       "  </thead>\n",
       "  <tbody>\n",
       "    <tr>\n",
       "      <th>0</th>\n",
       "      <td>768805383</td>\n",
       "      <td>Existing Customer</td>\n",
       "      <td>45</td>\n",
       "      <td>M</td>\n",
       "      <td>3</td>\n",
       "      <td>High School</td>\n",
       "      <td>Married</td>\n",
       "      <td>$60K - $80K</td>\n",
       "      <td>Blue</td>\n",
       "      <td>39</td>\n",
       "      <td>...</td>\n",
       "      <td>12691.0</td>\n",
       "      <td>777</td>\n",
       "      <td>11914.0</td>\n",
       "      <td>1.335</td>\n",
       "      <td>1144</td>\n",
       "      <td>42</td>\n",
       "      <td>1.625</td>\n",
       "      <td>0.061</td>\n",
       "      <td>0.000093</td>\n",
       "      <td>0.99991</td>\n",
       "    </tr>\n",
       "    <tr>\n",
       "      <th>1</th>\n",
       "      <td>818770008</td>\n",
       "      <td>Existing Customer</td>\n",
       "      <td>49</td>\n",
       "      <td>F</td>\n",
       "      <td>5</td>\n",
       "      <td>Graduate</td>\n",
       "      <td>Single</td>\n",
       "      <td>Less than $40K</td>\n",
       "      <td>Blue</td>\n",
       "      <td>44</td>\n",
       "      <td>...</td>\n",
       "      <td>8256.0</td>\n",
       "      <td>864</td>\n",
       "      <td>7392.0</td>\n",
       "      <td>1.541</td>\n",
       "      <td>1291</td>\n",
       "      <td>33</td>\n",
       "      <td>3.714</td>\n",
       "      <td>0.105</td>\n",
       "      <td>0.000057</td>\n",
       "      <td>0.99994</td>\n",
       "    </tr>\n",
       "    <tr>\n",
       "      <th>2</th>\n",
       "      <td>713982108</td>\n",
       "      <td>Existing Customer</td>\n",
       "      <td>51</td>\n",
       "      <td>M</td>\n",
       "      <td>3</td>\n",
       "      <td>Graduate</td>\n",
       "      <td>Married</td>\n",
       "      <td>$80K - $120K</td>\n",
       "      <td>Blue</td>\n",
       "      <td>36</td>\n",
       "      <td>...</td>\n",
       "      <td>3418.0</td>\n",
       "      <td>0</td>\n",
       "      <td>3418.0</td>\n",
       "      <td>2.594</td>\n",
       "      <td>1887</td>\n",
       "      <td>20</td>\n",
       "      <td>2.333</td>\n",
       "      <td>0.000</td>\n",
       "      <td>0.000021</td>\n",
       "      <td>0.99998</td>\n",
       "    </tr>\n",
       "    <tr>\n",
       "      <th>3</th>\n",
       "      <td>769911858</td>\n",
       "      <td>Existing Customer</td>\n",
       "      <td>40</td>\n",
       "      <td>F</td>\n",
       "      <td>4</td>\n",
       "      <td>High School</td>\n",
       "      <td>Unknown</td>\n",
       "      <td>Less than $40K</td>\n",
       "      <td>Blue</td>\n",
       "      <td>34</td>\n",
       "      <td>...</td>\n",
       "      <td>3313.0</td>\n",
       "      <td>2517</td>\n",
       "      <td>796.0</td>\n",
       "      <td>1.405</td>\n",
       "      <td>1171</td>\n",
       "      <td>20</td>\n",
       "      <td>2.333</td>\n",
       "      <td>0.760</td>\n",
       "      <td>0.000134</td>\n",
       "      <td>0.99987</td>\n",
       "    </tr>\n",
       "    <tr>\n",
       "      <th>4</th>\n",
       "      <td>709106358</td>\n",
       "      <td>Existing Customer</td>\n",
       "      <td>40</td>\n",
       "      <td>M</td>\n",
       "      <td>3</td>\n",
       "      <td>Uneducated</td>\n",
       "      <td>Married</td>\n",
       "      <td>$60K - $80K</td>\n",
       "      <td>Blue</td>\n",
       "      <td>21</td>\n",
       "      <td>...</td>\n",
       "      <td>4716.0</td>\n",
       "      <td>0</td>\n",
       "      <td>4716.0</td>\n",
       "      <td>2.175</td>\n",
       "      <td>816</td>\n",
       "      <td>28</td>\n",
       "      <td>2.500</td>\n",
       "      <td>0.000</td>\n",
       "      <td>0.000022</td>\n",
       "      <td>0.99998</td>\n",
       "    </tr>\n",
       "  </tbody>\n",
       "</table>\n",
       "<p>5 rows × 23 columns</p>\n",
       "</div>"
      ],
      "text/plain": [
       "   CLIENTNUM     Attrition_Flag  Customer_Age Gender  Dependent_count  \\\n",
       "0  768805383  Existing Customer            45      M                3   \n",
       "1  818770008  Existing Customer            49      F                5   \n",
       "2  713982108  Existing Customer            51      M                3   \n",
       "3  769911858  Existing Customer            40      F                4   \n",
       "4  709106358  Existing Customer            40      M                3   \n",
       "\n",
       "  Education_Level Marital_Status Income_Category Card_Category  \\\n",
       "0     High School        Married     $60K - $80K          Blue   \n",
       "1        Graduate         Single  Less than $40K          Blue   \n",
       "2        Graduate        Married    $80K - $120K          Blue   \n",
       "3     High School        Unknown  Less than $40K          Blue   \n",
       "4      Uneducated        Married     $60K - $80K          Blue   \n",
       "\n",
       "   Months_on_book  ...  Credit_Limit  Total_Revolving_Bal  Avg_Open_To_Buy  \\\n",
       "0              39  ...       12691.0                  777          11914.0   \n",
       "1              44  ...        8256.0                  864           7392.0   \n",
       "2              36  ...        3418.0                    0           3418.0   \n",
       "3              34  ...        3313.0                 2517            796.0   \n",
       "4              21  ...        4716.0                    0           4716.0   \n",
       "\n",
       "   Total_Amt_Chng_Q4_Q1  Total_Trans_Amt  Total_Trans_Ct  Total_Ct_Chng_Q4_Q1  \\\n",
       "0                 1.335             1144              42                1.625   \n",
       "1                 1.541             1291              33                3.714   \n",
       "2                 2.594             1887              20                2.333   \n",
       "3                 1.405             1171              20                2.333   \n",
       "4                 2.175              816              28                2.500   \n",
       "\n",
       "   Avg_Utilization_Ratio  \\\n",
       "0                  0.061   \n",
       "1                  0.105   \n",
       "2                  0.000   \n",
       "3                  0.760   \n",
       "4                  0.000   \n",
       "\n",
       "   Naive_Bayes_Classifier_Attrition_Flag_Card_Category_Contacts_Count_12_mon_Dependent_count_Education_Level_Months_Inactive_12_mon_1  \\\n",
       "0                                           0.000093                                                                                    \n",
       "1                                           0.000057                                                                                    \n",
       "2                                           0.000021                                                                                    \n",
       "3                                           0.000134                                                                                    \n",
       "4                                           0.000022                                                                                    \n",
       "\n",
       "   Naive_Bayes_Classifier_Attrition_Flag_Card_Category_Contacts_Count_12_mon_Dependent_count_Education_Level_Months_Inactive_12_mon_2  \n",
       "0                                            0.99991                                                                                   \n",
       "1                                            0.99994                                                                                   \n",
       "2                                            0.99998                                                                                   \n",
       "3                                            0.99987                                                                                   \n",
       "4                                            0.99998                                                                                   \n",
       "\n",
       "[5 rows x 23 columns]"
      ]
     },
     "execution_count": 19,
     "metadata": {},
     "output_type": "execute_result"
    }
   ],
   "source": [
    "data = pd.read_csv('customers.csv')\n",
    "data.head()"
   ]
  },
  {
   "cell_type": "markdown",
   "metadata": {
    "papermill": {
     "duration": 0.076249,
     "end_time": "2020-12-28T10:21:58.620216",
     "exception": false,
     "start_time": "2020-12-28T10:21:58.543967",
     "status": "completed"
    },
    "tags": []
   },
   "source": [
    "<a id=\"DataPreprocessing\" ></a>\n",
    "## 2.2. Data Preprocessing\n",
    "In this phase we'll quickly explore the data and remove/impute incorrect values. So that a cleaned data can be used for further analysis/modelling.\n",
    "\n",
    "* Remove unnecessary columns.\n",
    "* Check for duplicates.\n",
    "* Change ID to client number.\n",
    "* Check for null values.\n",
    "\n"
   ]
  },
  {
   "cell_type": "markdown",
   "metadata": {
    "papermill": {
     "duration": 0.076197,
     "end_time": "2020-12-28T10:21:58.774053",
     "exception": false,
     "start_time": "2020-12-28T10:21:58.697856",
     "status": "completed"
    },
    "tags": []
   },
   "source": [
    "### Remove N.B. columns"
   ]
  },
  {
   "cell_type": "code",
   "execution_count": 20,
   "metadata": {
    "execution": {
     "iopub.execute_input": "2020-12-28T10:21:58.933599Z",
     "iopub.status.busy": "2020-12-28T10:21:58.932511Z",
     "iopub.status.idle": "2020-12-28T10:21:58.941453Z",
     "shell.execute_reply": "2020-12-28T10:21:58.940628Z"
    },
    "papermill": {
     "duration": 0.091519,
     "end_time": "2020-12-28T10:21:58.941585",
     "exception": false,
     "start_time": "2020-12-28T10:21:58.850066",
     "status": "completed"
    },
    "tags": []
   },
   "outputs": [],
   "source": [
    "# Removing the N.B. columns\n",
    "data = data.drop(columns= ['Naive_Bayes_Classifier_Attrition_Flag_Card_Category_Contacts_Count_12_mon_Dependent_count_Education_Level_Months_Inactive_12_mon_1','Naive_Bayes_Classifier_Attrition_Flag_Card_Category_Contacts_Count_12_mon_Dependent_count_Education_Level_Months_Inactive_12_mon_2'])"
   ]
  },
  {
   "cell_type": "code",
   "execution_count": 21,
   "metadata": {
    "scrolled": false
   },
   "outputs": [
    {
     "data": {
      "text/plain": [
       "Index(['CLIENTNUM', 'Attrition_Flag', 'Customer_Age', 'Gender',\n",
       "       'Dependent_count', 'Education_Level', 'Marital_Status',\n",
       "       'Income_Category', 'Card_Category', 'Months_on_book',\n",
       "       'Total_Relationship_Count', 'Months_Inactive_12_mon',\n",
       "       'Contacts_Count_12_mon', 'Credit_Limit', 'Total_Revolving_Bal',\n",
       "       'Avg_Open_To_Buy', 'Total_Amt_Chng_Q4_Q1', 'Total_Trans_Amt',\n",
       "       'Total_Trans_Ct', 'Total_Ct_Chng_Q4_Q1', 'Avg_Utilization_Ratio'],\n",
       "      dtype='object')"
      ]
     },
     "execution_count": 21,
     "metadata": {},
     "output_type": "execute_result"
    }
   ],
   "source": [
    "data.columns"
   ]
  },
  {
   "cell_type": "code",
   "execution_count": 22,
   "metadata": {
    "execution": {
     "iopub.execute_input": "2020-12-28T10:21:59.101222Z",
     "iopub.status.busy": "2020-12-28T10:21:59.100063Z",
     "iopub.status.idle": "2020-12-28T10:21:59.106919Z",
     "shell.execute_reply": "2020-12-28T10:21:59.106070Z"
    },
    "papermill": {
     "duration": 0.089039,
     "end_time": "2020-12-28T10:21:59.107086",
     "exception": false,
     "start_time": "2020-12-28T10:21:59.018047",
     "status": "completed"
    },
    "scrolled": true,
    "tags": []
   },
   "outputs": [
    {
     "name": "stdout",
     "output_type": "stream",
     "text": [
      "Column name: CLIENTNUM\n",
      "Column name: Attrition_Flag\n",
      "Column name: Customer_Age\n",
      "Column name: Gender\n",
      "Column name: Dependent_count\n",
      "Column name: Education_Level\n",
      "Column name: Marital_Status\n",
      "Column name: Income_Category\n",
      "Column name: Card_Category\n",
      "Column name: Months_on_book\n",
      "Column name: Total_Relationship_Count\n",
      "Column name: Months_Inactive_12_mon\n",
      "Column name: Contacts_Count_12_mon\n",
      "Column name: Credit_Limit\n",
      "Column name: Total_Revolving_Bal\n",
      "Column name: Avg_Open_To_Buy\n",
      "Column name: Total_Amt_Chng_Q4_Q1\n",
      "Column name: Total_Trans_Amt\n",
      "Column name: Total_Trans_Ct\n",
      "Column name: Total_Ct_Chng_Q4_Q1\n",
      "Column name: Avg_Utilization_Ratio\n",
      "Column count: 21\n"
     ]
    }
   ],
   "source": [
    "for column in data.columns:\n",
    "    print(\"Column name: \" + column)\n",
    "\n",
    "print(\"Column count: \" + str(len(data.columns)))"
   ]
  },
  {
   "cell_type": "markdown",
   "metadata": {
    "papermill": {
     "duration": 0.076228,
     "end_time": "2020-12-28T10:21:59.260272",
     "exception": false,
     "start_time": "2020-12-28T10:21:59.184044",
     "status": "completed"
    },
    "tags": []
   },
   "source": [
    "### Check for duplicates and change ID to ClientNumber"
   ]
  },
  {
   "cell_type": "code",
   "execution_count": 23,
   "metadata": {
    "execution": {
     "iopub.execute_input": "2020-12-28T10:21:59.420017Z",
     "iopub.status.busy": "2020-12-28T10:21:59.418938Z",
     "iopub.status.idle": "2020-12-28T10:21:59.443116Z",
     "shell.execute_reply": "2020-12-28T10:21:59.442550Z"
    },
    "papermill": {
     "duration": 0.106024,
     "end_time": "2020-12-28T10:21:59.443253",
     "exception": false,
     "start_time": "2020-12-28T10:21:59.337229",
     "status": "completed"
    },
    "scrolled": false,
    "tags": []
   },
   "outputs": [
    {
     "data": {
      "text/plain": [
       "False"
      ]
     },
     "execution_count": 23,
     "metadata": {},
     "output_type": "execute_result"
    }
   ],
   "source": [
    "# True if duplicates are present\n",
    "data.duplicated().any()"
   ]
  },
  {
   "cell_type": "code",
   "execution_count": 24,
   "metadata": {
    "execution": {
     "iopub.execute_input": "2020-12-28T10:21:59.604369Z",
     "iopub.status.busy": "2020-12-28T10:21:59.603655Z",
     "iopub.status.idle": "2020-12-28T10:21:59.610024Z",
     "shell.execute_reply": "2020-12-28T10:21:59.609389Z"
    },
    "papermill": {
     "duration": 0.088747,
     "end_time": "2020-12-28T10:21:59.610153",
     "exception": false,
     "start_time": "2020-12-28T10:21:59.521406",
     "status": "completed"
    },
    "tags": []
   },
   "outputs": [],
   "source": [
    "# Change the ID to the ClientNumber\n",
    "data = data.set_index(\"CLIENTNUM\")"
   ]
  },
  {
   "cell_type": "code",
   "execution_count": 25,
   "metadata": {
    "scrolled": false
   },
   "outputs": [
    {
     "data": {
      "text/html": [
       "<div>\n",
       "<style scoped>\n",
       "    .dataframe tbody tr th:only-of-type {\n",
       "        vertical-align: middle;\n",
       "    }\n",
       "\n",
       "    .dataframe tbody tr th {\n",
       "        vertical-align: top;\n",
       "    }\n",
       "\n",
       "    .dataframe thead th {\n",
       "        text-align: right;\n",
       "    }\n",
       "</style>\n",
       "<table border=\"1\" class=\"dataframe\">\n",
       "  <thead>\n",
       "    <tr style=\"text-align: right;\">\n",
       "      <th></th>\n",
       "      <th>Attrition_Flag</th>\n",
       "      <th>Customer_Age</th>\n",
       "      <th>Gender</th>\n",
       "      <th>Dependent_count</th>\n",
       "      <th>Education_Level</th>\n",
       "      <th>Marital_Status</th>\n",
       "      <th>Income_Category</th>\n",
       "      <th>Card_Category</th>\n",
       "      <th>Months_on_book</th>\n",
       "      <th>Total_Relationship_Count</th>\n",
       "      <th>Months_Inactive_12_mon</th>\n",
       "      <th>Contacts_Count_12_mon</th>\n",
       "      <th>Credit_Limit</th>\n",
       "      <th>Total_Revolving_Bal</th>\n",
       "      <th>Avg_Open_To_Buy</th>\n",
       "      <th>Total_Amt_Chng_Q4_Q1</th>\n",
       "      <th>Total_Trans_Amt</th>\n",
       "      <th>Total_Trans_Ct</th>\n",
       "      <th>Total_Ct_Chng_Q4_Q1</th>\n",
       "      <th>Avg_Utilization_Ratio</th>\n",
       "    </tr>\n",
       "    <tr>\n",
       "      <th>CLIENTNUM</th>\n",
       "      <th></th>\n",
       "      <th></th>\n",
       "      <th></th>\n",
       "      <th></th>\n",
       "      <th></th>\n",
       "      <th></th>\n",
       "      <th></th>\n",
       "      <th></th>\n",
       "      <th></th>\n",
       "      <th></th>\n",
       "      <th></th>\n",
       "      <th></th>\n",
       "      <th></th>\n",
       "      <th></th>\n",
       "      <th></th>\n",
       "      <th></th>\n",
       "      <th></th>\n",
       "      <th></th>\n",
       "      <th></th>\n",
       "      <th></th>\n",
       "    </tr>\n",
       "  </thead>\n",
       "  <tbody>\n",
       "    <tr>\n",
       "      <th>768805383</th>\n",
       "      <td>Existing Customer</td>\n",
       "      <td>45</td>\n",
       "      <td>M</td>\n",
       "      <td>3</td>\n",
       "      <td>High School</td>\n",
       "      <td>Married</td>\n",
       "      <td>$60K - $80K</td>\n",
       "      <td>Blue</td>\n",
       "      <td>39</td>\n",
       "      <td>5</td>\n",
       "      <td>1</td>\n",
       "      <td>3</td>\n",
       "      <td>12691.0</td>\n",
       "      <td>777</td>\n",
       "      <td>11914.0</td>\n",
       "      <td>1.335</td>\n",
       "      <td>1144</td>\n",
       "      <td>42</td>\n",
       "      <td>1.625</td>\n",
       "      <td>0.061</td>\n",
       "    </tr>\n",
       "    <tr>\n",
       "      <th>818770008</th>\n",
       "      <td>Existing Customer</td>\n",
       "      <td>49</td>\n",
       "      <td>F</td>\n",
       "      <td>5</td>\n",
       "      <td>Graduate</td>\n",
       "      <td>Single</td>\n",
       "      <td>Less than $40K</td>\n",
       "      <td>Blue</td>\n",
       "      <td>44</td>\n",
       "      <td>6</td>\n",
       "      <td>1</td>\n",
       "      <td>2</td>\n",
       "      <td>8256.0</td>\n",
       "      <td>864</td>\n",
       "      <td>7392.0</td>\n",
       "      <td>1.541</td>\n",
       "      <td>1291</td>\n",
       "      <td>33</td>\n",
       "      <td>3.714</td>\n",
       "      <td>0.105</td>\n",
       "    </tr>\n",
       "    <tr>\n",
       "      <th>713982108</th>\n",
       "      <td>Existing Customer</td>\n",
       "      <td>51</td>\n",
       "      <td>M</td>\n",
       "      <td>3</td>\n",
       "      <td>Graduate</td>\n",
       "      <td>Married</td>\n",
       "      <td>$80K - $120K</td>\n",
       "      <td>Blue</td>\n",
       "      <td>36</td>\n",
       "      <td>4</td>\n",
       "      <td>1</td>\n",
       "      <td>0</td>\n",
       "      <td>3418.0</td>\n",
       "      <td>0</td>\n",
       "      <td>3418.0</td>\n",
       "      <td>2.594</td>\n",
       "      <td>1887</td>\n",
       "      <td>20</td>\n",
       "      <td>2.333</td>\n",
       "      <td>0.000</td>\n",
       "    </tr>\n",
       "    <tr>\n",
       "      <th>769911858</th>\n",
       "      <td>Existing Customer</td>\n",
       "      <td>40</td>\n",
       "      <td>F</td>\n",
       "      <td>4</td>\n",
       "      <td>High School</td>\n",
       "      <td>Unknown</td>\n",
       "      <td>Less than $40K</td>\n",
       "      <td>Blue</td>\n",
       "      <td>34</td>\n",
       "      <td>3</td>\n",
       "      <td>4</td>\n",
       "      <td>1</td>\n",
       "      <td>3313.0</td>\n",
       "      <td>2517</td>\n",
       "      <td>796.0</td>\n",
       "      <td>1.405</td>\n",
       "      <td>1171</td>\n",
       "      <td>20</td>\n",
       "      <td>2.333</td>\n",
       "      <td>0.760</td>\n",
       "    </tr>\n",
       "    <tr>\n",
       "      <th>709106358</th>\n",
       "      <td>Existing Customer</td>\n",
       "      <td>40</td>\n",
       "      <td>M</td>\n",
       "      <td>3</td>\n",
       "      <td>Uneducated</td>\n",
       "      <td>Married</td>\n",
       "      <td>$60K - $80K</td>\n",
       "      <td>Blue</td>\n",
       "      <td>21</td>\n",
       "      <td>5</td>\n",
       "      <td>1</td>\n",
       "      <td>0</td>\n",
       "      <td>4716.0</td>\n",
       "      <td>0</td>\n",
       "      <td>4716.0</td>\n",
       "      <td>2.175</td>\n",
       "      <td>816</td>\n",
       "      <td>28</td>\n",
       "      <td>2.500</td>\n",
       "      <td>0.000</td>\n",
       "    </tr>\n",
       "  </tbody>\n",
       "</table>\n",
       "</div>"
      ],
      "text/plain": [
       "              Attrition_Flag  Customer_Age Gender  Dependent_count  \\\n",
       "CLIENTNUM                                                            \n",
       "768805383  Existing Customer            45      M                3   \n",
       "818770008  Existing Customer            49      F                5   \n",
       "713982108  Existing Customer            51      M                3   \n",
       "769911858  Existing Customer            40      F                4   \n",
       "709106358  Existing Customer            40      M                3   \n",
       "\n",
       "          Education_Level Marital_Status Income_Category Card_Category  \\\n",
       "CLIENTNUM                                                                \n",
       "768805383     High School        Married     $60K - $80K          Blue   \n",
       "818770008        Graduate         Single  Less than $40K          Blue   \n",
       "713982108        Graduate        Married    $80K - $120K          Blue   \n",
       "769911858     High School        Unknown  Less than $40K          Blue   \n",
       "709106358      Uneducated        Married     $60K - $80K          Blue   \n",
       "\n",
       "           Months_on_book  Total_Relationship_Count  Months_Inactive_12_mon  \\\n",
       "CLIENTNUM                                                                     \n",
       "768805383              39                         5                       1   \n",
       "818770008              44                         6                       1   \n",
       "713982108              36                         4                       1   \n",
       "769911858              34                         3                       4   \n",
       "709106358              21                         5                       1   \n",
       "\n",
       "           Contacts_Count_12_mon  Credit_Limit  Total_Revolving_Bal  \\\n",
       "CLIENTNUM                                                             \n",
       "768805383                      3       12691.0                  777   \n",
       "818770008                      2        8256.0                  864   \n",
       "713982108                      0        3418.0                    0   \n",
       "769911858                      1        3313.0                 2517   \n",
       "709106358                      0        4716.0                    0   \n",
       "\n",
       "           Avg_Open_To_Buy  Total_Amt_Chng_Q4_Q1  Total_Trans_Amt  \\\n",
       "CLIENTNUM                                                           \n",
       "768805383          11914.0                 1.335             1144   \n",
       "818770008           7392.0                 1.541             1291   \n",
       "713982108           3418.0                 2.594             1887   \n",
       "769911858            796.0                 1.405             1171   \n",
       "709106358           4716.0                 2.175              816   \n",
       "\n",
       "           Total_Trans_Ct  Total_Ct_Chng_Q4_Q1  Avg_Utilization_Ratio  \n",
       "CLIENTNUM                                                              \n",
       "768805383              42                1.625                  0.061  \n",
       "818770008              33                3.714                  0.105  \n",
       "713982108              20                2.333                  0.000  \n",
       "769911858              20                2.333                  0.760  \n",
       "709106358              28                2.500                  0.000  "
      ]
     },
     "execution_count": 25,
     "metadata": {},
     "output_type": "execute_result"
    }
   ],
   "source": [
    "data.head()"
   ]
  },
  {
   "cell_type": "markdown",
   "metadata": {
    "papermill": {
     "duration": 0.078107,
     "end_time": "2020-12-28T10:21:59.766885",
     "exception": false,
     "start_time": "2020-12-28T10:21:59.688778",
     "status": "completed"
    },
    "tags": []
   },
   "source": [
    "### Null values?"
   ]
  },
  {
   "cell_type": "code",
   "execution_count": 26,
   "metadata": {
    "execution": {
     "iopub.execute_input": "2020-12-28T10:21:59.937643Z",
     "iopub.status.busy": "2020-12-28T10:21:59.936484Z",
     "iopub.status.idle": "2020-12-28T10:21:59.945623Z",
     "shell.execute_reply": "2020-12-28T10:21:59.944986Z"
    },
    "papermill": {
     "duration": 0.100191,
     "end_time": "2020-12-28T10:21:59.945763",
     "exception": false,
     "start_time": "2020-12-28T10:21:59.845572",
     "status": "completed"
    },
    "scrolled": true,
    "tags": []
   },
   "outputs": [
    {
     "data": {
      "text/plain": [
       "Attrition_Flag              0\n",
       "Customer_Age                0\n",
       "Gender                      0\n",
       "Dependent_count             0\n",
       "Education_Level             0\n",
       "Marital_Status              0\n",
       "Income_Category             0\n",
       "Card_Category               0\n",
       "Months_on_book              0\n",
       "Total_Relationship_Count    0\n",
       "Months_Inactive_12_mon      0\n",
       "Contacts_Count_12_mon       0\n",
       "Credit_Limit                0\n",
       "Total_Revolving_Bal         0\n",
       "Avg_Open_To_Buy             0\n",
       "Total_Amt_Chng_Q4_Q1        0\n",
       "Total_Trans_Amt             0\n",
       "Total_Trans_Ct              0\n",
       "Total_Ct_Chng_Q4_Q1         0\n",
       "Avg_Utilization_Ratio       0\n",
       "dtype: int64"
      ]
     },
     "execution_count": 26,
     "metadata": {},
     "output_type": "execute_result"
    }
   ],
   "source": [
    "# Describe columns\n",
    "data.isnull().sum()"
   ]
  },
  {
   "cell_type": "markdown",
   "metadata": {
    "papermill": {
     "duration": 0.083171,
     "end_time": "2020-12-28T10:22:00.273116",
     "exception": false,
     "start_time": "2020-12-28T10:22:00.189945",
     "status": "completed"
    },
    "tags": []
   },
   "source": [
    "<a id=\"CustomerProfiles\"></a>\n",
    "# 3. Customer Profiles\n",
    "Let's now explore and understand our data! \n",
    "<a id=\"EDA\"></a>\n",
    "## 3.1. Exploratory Data Analysis (EDA)\n",
    "\n",
    "EDA tasks:\n",
    "\n",
    "* Check the target variable:\n",
    "    * Amount of attrition.\n",
    "\n",
    "\n",
    "* Check the demographic variables:\n",
    "    * Age vs attrition.\n",
    "    * Gender vs churn.\n",
    "    * Number of dependents vs churn.\n",
    "    * Education level vs churn.\n",
    "    * Marital status vs churn.\n",
    "    * Income category vs churn.\n",
    "\n",
    "\n",
    "* Check the product variables:\n",
    "    * Type of card vs churn.\n",
    "    * Relationship with the bank vs churn.\n",
    "    * Number of products vs churn.\n",
    "    * Inactive months vs churn.\n",
    "    * Number of contacts vs churn.\n",
    "    * Credit Limit vs churn.\n",
    "    * Total resolving balance vs churn.\n",
    "    * Openness To Buy Credit Line vs churn.\n",
    "    * Transaction Amount Change vs churn.\n",
    "    * Transaction Count Change vs churn.\n",
    "    * Average Card Utilization Ratio vs churn.\n",
    "\n",
    "## Check the target variable\n",
    "### Amount of churned customers\n",
    "How many customers have churned?"
   ]
  },
  {
   "cell_type": "code",
   "execution_count": 2,
   "metadata": {
    "execution": {
     "iopub.execute_input": "2020-12-28T10:22:00.450593Z",
     "iopub.status.busy": "2020-12-28T10:22:00.449787Z",
     "iopub.status.idle": "2020-12-28T10:22:00.585914Z",
     "shell.execute_reply": "2020-12-28T10:22:00.586452Z"
    },
    "papermill": {
     "duration": 0.230674,
     "end_time": "2020-12-28T10:22:00.586619",
     "exception": false,
     "start_time": "2020-12-28T10:22:00.355945",
     "status": "completed"
    },
    "tags": []
   },
   "outputs": [
    {
     "ename": "NameError",
     "evalue": "name 'data' is not defined",
     "output_type": "error",
     "traceback": [
      "\u001b[1;31m---------------------------------------------------------------------------\u001b[0m",
      "\u001b[1;31mNameError\u001b[0m                                 Traceback (most recent call last)",
      "Cell \u001b[1;32mIn[2], line 1\u001b[0m\n\u001b[1;32m----> 1\u001b[0m target \u001b[38;5;241m=\u001b[39m data[\u001b[38;5;124m\"\u001b[39m\u001b[38;5;124mAttrition_Flag\u001b[39m\u001b[38;5;124m\"\u001b[39m]\u001b[38;5;241m.\u001b[39mvalue_counts()\n\u001b[0;32m      2\u001b[0m fig1, ax1 \u001b[38;5;241m=\u001b[39m plt\u001b[38;5;241m.\u001b[39msubplots(figsize\u001b[38;5;241m=\u001b[39m(\u001b[38;5;241m3\u001b[39m, \u001b[38;5;241m3\u001b[39m))\n\u001b[0;32m      4\u001b[0m ax1\u001b[38;5;241m.\u001b[39mpie(target,labels\u001b[38;5;241m=\u001b[39mtarget\u001b[38;5;241m.\u001b[39mindex,autopct\u001b[38;5;241m=\u001b[39m\u001b[38;5;124m'\u001b[39m\u001b[38;5;132;01m%1.1f\u001b[39;00m\u001b[38;5;132;01m%%\u001b[39;00m\u001b[38;5;124m'\u001b[39m,shadow\u001b[38;5;241m=\u001b[39m\u001b[38;5;28;01mNone\u001b[39;00m)\n",
      "\u001b[1;31mNameError\u001b[0m: name 'data' is not defined"
     ]
    }
   ],
   "source": [
    "target = data[\"Attrition_Flag\"].value_counts()\n",
    "fig1, ax1 = plt.subplots(figsize=(3, 3))\n",
    "\n",
    "ax1.pie(target,labels=target.index,autopct='%1.1f%%',shadow=None)\n",
    "ax1.axis('equal')\n",
    "plt.title(\"Amount of churned customers\", fontsize=14)\n",
    "plt.show()"
   ]
  },
  {
   "cell_type": "markdown",
   "metadata": {
    "papermill": {
     "duration": 0.082066,
     "end_time": "2020-12-28T10:22:00.750663",
     "exception": false,
     "start_time": "2020-12-28T10:22:00.668597",
     "status": "completed"
    },
    "tags": []
   },
   "source": [
    "It's clear that the majority of our customers (83.9 %) stays. Since \"attrited\" or \"churned\" label is less then 20% of the total all customers.  We can say that we have an imbalanced data."
   ]
  },
  {
   "cell_type": "code",
   "execution_count": 1,
   "metadata": {
    "execution": {
     "iopub.execute_input": "2020-12-28T10:22:00.915196Z",
     "iopub.status.busy": "2020-12-28T10:22:00.914385Z",
     "iopub.status.idle": "2020-12-28T10:22:00.941936Z",
     "shell.execute_reply": "2020-12-28T10:22:00.941325Z"
    },
    "papermill": {
     "duration": 0.111559,
     "end_time": "2020-12-28T10:22:00.942079",
     "exception": false,
     "start_time": "2020-12-28T10:22:00.830520",
     "status": "completed"
    },
    "tags": []
   },
   "outputs": [
    {
     "ename": "NameError",
     "evalue": "name 'data' is not defined",
     "output_type": "error",
     "traceback": [
      "\u001b[1;31m---------------------------------------------------------------------------\u001b[0m",
      "\u001b[1;31mNameError\u001b[0m                                 Traceback (most recent call last)",
      "Cell \u001b[1;32mIn[1], line 1\u001b[0m\n\u001b[1;32m----> 1\u001b[0m churned \u001b[38;5;241m=\u001b[39m data[data[\u001b[38;5;124m'\u001b[39m\u001b[38;5;124mAttrition_Flag\u001b[39m\u001b[38;5;124m'\u001b[39m] \u001b[38;5;241m==\u001b[39m \u001b[38;5;124m\"\u001b[39m\u001b[38;5;124mAttrited Customer\u001b[39m\u001b[38;5;124m\"\u001b[39m]\n\u001b[0;32m      2\u001b[0m nonchurned \u001b[38;5;241m=\u001b[39m data[data[\u001b[38;5;124m'\u001b[39m\u001b[38;5;124mAttrition_Flag\u001b[39m\u001b[38;5;124m'\u001b[39m] \u001b[38;5;241m==\u001b[39m \u001b[38;5;124m\"\u001b[39m\u001b[38;5;124mExisting Customer\u001b[39m\u001b[38;5;124m\"\u001b[39m]\n\u001b[0;32m      4\u001b[0m \u001b[38;5;28;01mdef\u001b[39;00m \u001b[38;5;21mplot_pie\u001b[39m(column):\n",
      "\u001b[1;31mNameError\u001b[0m: name 'data' is not defined"
     ]
    }
   ],
   "source": [
    "churned = data[data['Attrition_Flag'] == \"Attrited Customer\"]\n",
    "nonchurned = data[data['Attrition_Flag'] == \"Existing Customer\"]\n",
    "\n",
    "def plot_pie(column):\n",
    "    target = data[column].value_counts()    \n",
    "    fig1, ax1 = plt.subplots()    \n",
    "    ax1.pie(target, labels=target.index, autopct='%1.1f%%', shadow=None)\n",
    "    ax1.axis('equal')\n",
    "    plt.title(\"All customers\", fontsize=14)\n",
    "    plt.show()\n",
    "    \n",
    "def plot_compare(column, category_name):\n",
    "    NChurned = len(churned[column].unique())\n",
    "    NNonChurned = len(nonchurned[column].unique())\n",
    "    \n",
    "    ChurnedCounts = churned[column].value_counts().sort_index()\n",
    "    NonChurnedCounts = nonchurned[column].value_counts().sort_index()\n",
    "    \n",
    "    indchurned = np.arange(NChurned)    # the x locations for the groups\n",
    "    indnonchurned = np.arange(NNonChurned)    \n",
    "    width = 1       # the width of the bars: can also be len(x) sequence\n",
    "    \n",
    "    figs, axs = plt.subplots(1,2, figsize=(12,5))\n",
    "    \n",
    "    axs[1].bar(indchurned, ChurnedCounts, width, color='#DD8452')\n",
    "    axs[1].set_title('Churned ' + category_name, fontsize=20)\n",
    "    axs[1].set_xticks(indchurned)\n",
    "    axs[1].set_xticklabels(ChurnedCounts.index.tolist(), rotation=45)\n",
    "    \n",
    "    axs[0].bar(indnonchurned, NonChurnedCounts, width, color='b')\n",
    "    axs[0].set_title('Non Churned ' + category_name, fontsize=20)\n",
    "    axs[0].set_ylabel('Amount of People')\n",
    "    axs[0].set_xticks(indnonchurned)\n",
    "    axs[0].set_xticklabels(NonChurnedCounts.index.tolist(), rotation=45)\n",
    "    \n",
    "    \n",
    "    plt.show()"
   ]
  },
  {
   "cell_type": "markdown",
   "metadata": {
    "papermill": {
     "duration": 0.085163,
     "end_time": "2020-12-28T10:22:01.108244",
     "exception": false,
     "start_time": "2020-12-28T10:22:01.023081",
     "status": "completed"
    },
    "tags": []
   },
   "source": [
    "## Checking the demographic variables\n",
    "### Age compared to the churn"
   ]
  },
  {
   "cell_type": "code",
   "execution_count": 29,
   "metadata": {
    "execution": {
     "iopub.execute_input": "2020-12-28T10:22:01.277983Z",
     "iopub.status.busy": "2020-12-28T10:22:01.277262Z",
     "iopub.status.idle": "2020-12-28T10:22:01.611061Z",
     "shell.execute_reply": "2020-12-28T10:22:01.610460Z"
    },
    "papermill": {
     "duration": 0.419867,
     "end_time": "2020-12-28T10:22:01.611180",
     "exception": false,
     "start_time": "2020-12-28T10:22:01.191313",
     "status": "completed"
    },
    "scrolled": true,
    "tags": []
   },
   "outputs": [
    {
     "data": {
      "image/png": "[encoded data removed]",
      "text/plain": [
       "<Figure size 640x480 with 1 Axes>"
      ]
     },
     "metadata": {},
     "output_type": "display_data"
    }
   ],
   "source": [
    "# Checking the overal distribution\n",
    "data[\"Customer_Age\"].hist()\n",
    "plt.xlabel(\"Age\")\n",
    "plt.ylabel(\"Amount of customers\")\n",
    "plt.title(\"Age distribution\", fontsize=15)\n",
    "plt.show()"
   ]
  },
  {
   "cell_type": "markdown",
   "metadata": {
    "papermill": {
     "duration": 0.080286,
     "end_time": "2020-12-28T10:22:02.327758",
     "exception": false,
     "start_time": "2020-12-28T10:22:02.247472",
     "status": "completed"
    },
    "tags": []
   },
   "source": [
    "### Gender vs churn\n",
    "Are males of females more eager to churn?"
   ]
  },
  {
   "cell_type": "code",
   "execution_count": 30,
   "metadata": {
    "execution": {
     "iopub.execute_input": "2020-12-28T10:22:02.509947Z",
     "iopub.status.busy": "2020-12-28T10:22:02.508660Z",
     "iopub.status.idle": "2020-12-28T10:22:02.616937Z",
     "shell.execute_reply": "2020-12-28T10:22:02.617524Z"
    },
    "papermill": {
     "duration": 0.209771,
     "end_time": "2020-12-28T10:22:02.617681",
     "exception": false,
     "start_time": "2020-12-28T10:22:02.407910",
     "status": "completed"
    },
    "scrolled": true,
    "tags": []
   },
   "outputs": [
    {
     "name": "stdout",
     "output_type": "stream",
     "text": [
      "F    930\n",
      "M    697\n",
      "Name: Gender, dtype: int64\n"
     ]
    },
    {
     "data": {
      "image/png": "[encoded data removed]",
      "text/plain": [
       "<Figure size 640x480 with 2 Axes>"
      ]
     },
     "metadata": {},
     "output_type": "display_data"
    }
   ],
   "source": [
    "churnedtarget = churned[\"Gender\"].value_counts()\n",
    "print(churnedtarget)\n",
    "nonchurnedtarget = nonchurned[\"Gender\"].value_counts()\n",
    "\n",
    "fig1, axs = plt.subplots(1, 2)\n",
    "\n",
    "axs[0].pie(churnedtarget, labels=churnedtarget.index, autopct='%1.1f%%', shadow=None)\n",
    "axs[0].axis('equal')\n",
    "axs[0].set_title('Existing customers')\n",
    "\n",
    "axs[1].pie(nonchurnedtarget, labels=nonchurnedtarget.index, autopct='%1.1f%%', shadow=None)\n",
    "axs[1].axis('equal')\n",
    "axs[1].set_title('Churning customers')\n",
    "\n",
    "plt.show()"
   ]
  },
  {
   "cell_type": "markdown",
   "metadata": {
    "papermill": {
     "duration": 0.082378,
     "end_time": "2020-12-28T10:22:02.782886",
     "exception": false,
     "start_time": "2020-12-28T10:22:02.700508",
     "status": "completed"
    },
    "tags": []
   },
   "source": [
    "The difference is too small to say that one gender is more eager to churn."
   ]
  },
  {
   "cell_type": "markdown",
   "metadata": {
    "papermill": {
     "duration": 0.082426,
     "end_time": "2020-12-28T10:22:02.947465",
     "exception": false,
     "start_time": "2020-12-28T10:22:02.865039",
     "status": "completed"
    },
    "tags": []
   },
   "source": [
    "### Number of dependents vs churn"
   ]
  },
  {
   "cell_type": "code",
   "execution_count": 31,
   "metadata": {
    "execution": {
     "iopub.execute_input": "2020-12-28T10:22:03.137206Z",
     "iopub.status.busy": "2020-12-28T10:22:03.130855Z",
     "iopub.status.idle": "2020-12-28T10:22:03.516414Z",
     "shell.execute_reply": "2020-12-28T10:22:03.515794Z"
    },
    "papermill": {
     "duration": 0.484401,
     "end_time": "2020-12-28T10:22:03.516530",
     "exception": false,
     "start_time": "2020-12-28T10:22:03.032129",
     "status": "completed"
    },
    "scrolled": false,
    "tags": []
   },
   "outputs": [
    {
     "name": "stdout",
     "output_type": "stream",
     "text": [
      "0    135\n",
      "1    269\n",
      "2    417\n",
      "3    482\n",
      "4    260\n",
      "5     64\n",
      "Name: Dependent_count, dtype: int64\n"
     ]
    },
    {
     "data": {
      "image/png": "[encoded data removed]",
      "text/plain": [
       "<Figure size 300x200 with 1 Axes>"
      ]
     },
     "metadata": {},
     "output_type": "display_data"
    }
   ],
   "source": [
    "N = 6\n",
    "ChurnedCounts = churned[\"Dependent_count\"].value_counts().sort_index()\n",
    "print(ChurnedCounts)\n",
    "# ChurnedCounts = churned[\"Dependent_count\"].value_counts()\n",
    "# print(\"without : \", ChurnedCounts)\n",
    "\n",
    "NonChurnedCounts = nonchurned[\"Dependent_count\"].value_counts().sort_index()\n",
    "\n",
    "ind = np.arange(N)    # the x locations for the groups\n",
    "width = 0.3       # the width of the bars: can also be len(x) sequence\n",
    "\n",
    "figs, axs = plt.subplots(figsize=(3,2))\n",
    "\n",
    "axs.bar(ind - width/2, ChurnedCounts, width, color = \"#DD8452\")\n",
    "axs.bar(ind + width/2, NonChurnedCounts, width)\n",
    "\n",
    "axs.set_xlabel('Dependent Count')\n",
    "axs.set_ylabel('Amount of People')\n",
    "axs.set_title('Distribution of the dependent count', fontsize=20)\n",
    "# axs.set_xticks(ind, ('0', '1', '2', '3', '4', '5'))\n",
    "axs.legend(('Churned Customers','Existing Customers',))\n",
    "\n",
    "plt.show()"
   ]
  },
  {
   "cell_type": "code",
   "execution_count": 16,
   "metadata": {
    "execution": {
     "iopub.execute_input": "2020-12-28T10:22:03.694033Z",
     "iopub.status.busy": "2020-12-28T10:22:03.690318Z",
     "iopub.status.idle": "2020-12-28T10:22:03.697728Z",
     "shell.execute_reply": "2020-12-28T10:22:03.698252Z"
    },
    "papermill": {
     "duration": 0.097578,
     "end_time": "2020-12-28T10:22:03.698464",
     "exception": false,
     "start_time": "2020-12-28T10:22:03.600886",
     "status": "completed"
    },
    "scrolled": false,
    "tags": []
   },
   "outputs": [
    {
     "ename": "NameError",
     "evalue": "name 'churned' is not defined",
     "output_type": "error",
     "traceback": [
      "\u001b[1;31m---------------------------------------------------------------------------\u001b[0m",
      "\u001b[1;31mNameError\u001b[0m                                 Traceback (most recent call last)",
      "Cell \u001b[1;32mIn[16], line 1\u001b[0m\n\u001b[1;32m----> 1\u001b[0m churned[\u001b[38;5;124m'\u001b[39m\u001b[38;5;124mDependent_count\u001b[39m\u001b[38;5;124m'\u001b[39m]\u001b[38;5;241m.\u001b[39mdescribe()\n",
      "\u001b[1;31mNameError\u001b[0m: name 'churned' is not defined"
     ]
    }
   ],
   "source": [
    "churned['Dependent_count'].describe()"
   ]
  },
  {
   "cell_type": "code",
   "execution_count": 17,
   "metadata": {
    "execution": {
     "iopub.execute_input": "2020-12-28T10:22:03.874470Z",
     "iopub.status.busy": "2020-12-28T10:22:03.873800Z",
     "iopub.status.idle": "2020-12-28T10:22:03.881491Z",
     "shell.execute_reply": "2020-12-28T10:22:03.882037Z"
    },
    "papermill": {
     "duration": 0.098238,
     "end_time": "2020-12-28T10:22:03.882179",
     "exception": false,
     "start_time": "2020-12-28T10:22:03.783941",
     "status": "completed"
    },
    "scrolled": true,
    "tags": []
   },
   "outputs": [
    {
     "ename": "NameError",
     "evalue": "name 'nonchurned' is not defined",
     "output_type": "error",
     "traceback": [
      "\u001b[1;31m---------------------------------------------------------------------------\u001b[0m",
      "\u001b[1;31mNameError\u001b[0m                                 Traceback (most recent call last)",
      "Cell \u001b[1;32mIn[17], line 1\u001b[0m\n\u001b[1;32m----> 1\u001b[0m nonchurned[\u001b[38;5;124m'\u001b[39m\u001b[38;5;124mDependent_count\u001b[39m\u001b[38;5;124m'\u001b[39m]\u001b[38;5;241m.\u001b[39mdescribe()\n",
      "\u001b[1;31mNameError\u001b[0m: name 'nonchurned' is not defined"
     ]
    }
   ],
   "source": [
    "nonchurned['Dependent_count'].describe()"
   ]
  },
  {
   "cell_type": "markdown",
   "metadata": {
    "papermill": {
     "duration": 0.085877,
     "end_time": "2020-12-28T10:22:04.052648",
     "exception": false,
     "start_time": "2020-12-28T10:22:03.966771",
     "status": "completed"
    },
    "tags": []
   },
   "source": [
    "The dependent count shows us a normal distribution. No clear shift is visible when comparing the churned- and non churned distribution."
   ]
  }
 ],
 "metadata": {
  "kernelspec": {
   "display_name": "Python 3 (ipykernel)",
   "language": "python",
   "name": "python3"
  },
  "language_info": {
   "codemirror_mode": {
    "name": "ipython",
    "version": 3
   },
   "file_extension": ".py",
   "mimetype": "text/x-python",
   "name": "python",
   "nbconvert_exporter": "python",
   "pygments_lexer": "ipython3",
   "version": "3.11.3"
  },
  "papermill": {
   "duration": 78.341045,
   "end_time": "2020-12-28T10:22:56.800280",
   "environment_variables": {},
   "exception": null,
   "input_path": "__notebook__.ipynb",
   "output_path": "__notebook__.ipynb",
   "parameters": {},
   "start_time": "2020-12-28T10:21:38.459235",
   "version": "2.1.0"
  }
 },
 "nbformat": 4,
 "nbformat_minor": 4
}
